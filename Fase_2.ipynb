{
 "cells": [
  {
   "cell_type": "code",
   "execution_count": 8,
   "id": "763be71a",
   "metadata": {},
   "outputs": [
    {
     "name": "stdout",
     "output_type": "stream",
     "text": [
      "500\n"
     ]
    }
   ],
   "source": [
    "#exercici 1\n",
    "a = 200\n",
    "b = 300\n",
    "mult = a*b\n",
    "suma = a+b\n",
    "\n",
    "if mult <= 1000:\n",
    "    print(mult)\n",
    "else:\n",
    "    print(suma)\n"
   ]
  },
  {
   "cell_type": "code",
   "execution_count": 1,
   "id": "0ca4e654",
   "metadata": {},
   "outputs": [
    {
     "name": "stdout",
     "output_type": "stream",
     "text": [
      "1 2 3 4 5 6 7 8 9 10 11 12 13 14 15 "
     ]
    }
   ],
   "source": [
    "#exercici 2\n",
    "i = 0\n",
    "while (i <= 14):\n",
    "    i +=1\n",
    "    print (i, end=' ')"
   ]
  },
  {
   "cell_type": "code",
   "execution_count": 17,
   "id": "066b1c06",
   "metadata": {
    "scrolled": true
   },
   "outputs": [
    {
     "name": "stdout",
     "output_type": "stream",
     "text": [
      "0 1 2 3 4 5 6 7 8 9 10 11 12 13 14 "
     ]
    }
   ],
   "source": [
    "#exercici 3\n",
    "for i in range(15):\n",
    "    print(i, end=' ')#end para que lo muestre horizontalmente\n"
   ]
  },
  {
   "cell_type": "code",
   "execution_count": 7,
   "id": "91b26d3a",
   "metadata": {},
   "outputs": [
    {
     "name": "stdout",
     "output_type": "stream",
     "text": [
      "Introduce un número: 20\n",
      "210\n"
     ]
    }
   ],
   "source": [
    "#exercici 4\n",
    "x = int(input(\"Introduce un número: \"))\n",
    "    print((x*(x+1))//2)"
   ]
  },
  {
   "cell_type": "code",
   "execution_count": 21,
   "id": "97af90eb",
   "metadata": {},
   "outputs": [
    {
     "name": "stdout",
     "output_type": "stream",
     "text": [
      "Introduce un numero: 10\n",
      "10 x 0 = 0\n",
      "10 x 1 = 10\n",
      "10 x 2 = 20\n",
      "10 x 3 = 30\n",
      "10 x 4 = 40\n",
      "10 x 5 = 50\n",
      "10 x 6 = 60\n",
      "10 x 7 = 70\n",
      "10 x 8 = 80\n",
      "10 x 9 = 90\n",
      "10 x 10 = 100\n"
     ]
    }
   ],
   "source": [
    "#exercici 5\n",
    "numero = int(input(\"Introduce un numero: \"))\n",
    "\n",
    "for i in range(0,11):\n",
    "    resultado = i*numero\n",
    "    print((\"%d x %d = %d\")%(numero,i,resultado))"
   ]
  },
  {
   "cell_type": "code",
   "execution_count": 18,
   "id": "1fd4eb17",
   "metadata": {},
   "outputs": [
    {
     "name": "stdout",
     "output_type": "stream",
     "text": [
      "100 80 60 20 "
     ]
    }
   ],
   "source": [
    "#exercici 6\n",
    "list = [20,60,80,100]\n",
    "for i in reversed(list):#reversed hace que la lista se recorra al reves\n",
    "    print(i, end=' ')"
   ]
  },
  {
   "cell_type": "code",
   "execution_count": 27,
   "id": "953aac2b",
   "metadata": {},
   "outputs": [
    {
     "name": "stdout",
     "output_type": "stream",
     "text": [
      "100\n"
     ]
    }
   ],
   "source": [
    "#exercici 7\n",
    "list = [20,60,80,100]\n",
    "print(max(list))#max agafa el valor més gran d'una llista"
   ]
  },
  {
   "cell_type": "code",
   "execution_count": 75,
   "id": "a7afd402",
   "metadata": {},
   "outputs": [
    {
     "name": "stdout",
     "output_type": "stream",
     "text": [
      "Letras:  8\n",
      "Numeros:  2\n",
      "Caracteres especiales:  8\n"
     ]
    }
   ],
   "source": [
    "#exercici 8\n",
    "string = \"[&#Pr@j3ctE#D4M#&]\"\n",
    "\n",
    "letras = 0\n",
    "numeros = 0 \n",
    "especial = 0\n",
    "\n",
    "for i in string:\n",
    "    if i.isalpha():\n",
    "        letras += 1\n",
    "    elif i.isdigit():\n",
    "        numeros += 1\n",
    "    else:\n",
    "        especial += 1\n",
    "\n",
    "print(\"Letras: \", letras)\n",
    "print(\"Numeros: \", numeros)\n",
    "print(\"Caracteres especiales: \", especial)"
   ]
  },
  {
   "cell_type": "code",
   "execution_count": null,
   "id": "a82f5e78",
   "metadata": {},
   "outputs": [],
   "source": []
  }
 ],
 "metadata": {
  "kernelspec": {
   "display_name": "Python 3 (ipykernel)",
   "language": "python",
   "name": "python3"
  },
  "language_info": {
   "codemirror_mode": {
    "name": "ipython",
    "version": 3
   },
   "file_extension": ".py",
   "mimetype": "text/x-python",
   "name": "python",
   "nbconvert_exporter": "python",
   "pygments_lexer": "ipython3",
   "version": "3.9.12"
  }
 },
 "nbformat": 4,
 "nbformat_minor": 5
}
